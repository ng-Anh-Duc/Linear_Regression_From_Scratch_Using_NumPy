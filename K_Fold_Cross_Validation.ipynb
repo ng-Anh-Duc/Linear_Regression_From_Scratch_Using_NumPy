{
  "nbformat": 4,
  "nbformat_minor": 0,
  "metadata": {
    "colab": {
      "provenance": []
    },
    "kernelspec": {
      "name": "python3",
      "display_name": "Python 3"
    },
    "language_info": {
      "name": "python"
    }
  },
  "cells": [
    {
      "cell_type": "code",
      "source": [
        "import numpy as np\n",
        "from numpy import genfromtxt\n",
        "import matplotlib.pyplot as plt"
      ],
      "metadata": {
        "id": "-Pzjqw_OS9Eh"
      },
      "execution_count": null,
      "outputs": []
    },
    {
      "cell_type": "code",
      "execution_count": null,
      "metadata": {
        "id": "rxslPzNERfx4"
      },
      "outputs": [],
      "source": [
        "# dataset\n",
        "data = genfromtxt('Advertising.csv', delimiter=',', skip_header=1)\n",
        "N = data.shape[0]\n",
        "X = data[:,1:4]\n",
        "y = data[:,4:]\n",
        "\n",
        "# Normalize input data by using mean normalizaton\n",
        "def mean_normalization(X):\n",
        "  N = len(X)\n",
        "  maxi = np.max(X)\n",
        "  mini = np.min(X)\n",
        "  avg = np.mean(X)\n",
        "  X = (X-avg) / (maxi-mini)\n",
        "  X_b = np.c_[np.ones((N, 1)), X]\n",
        "  return X_b, maxi, mini, avg"
      ]
    },
    {
      "cell_type": "code",
      "source": [
        "def batch_gradient_descent(X_b, y, n_epochs=100, learning_rate=0.01):\n",
        "\n",
        "    # thetas = np.random.randn(4, 1) # uncomment this line for real application\n",
        "    thetas = np.asarray([[1.16270837], [-0.81960489],  [1.39501033],  [0.29763545]])\n",
        "\n",
        "    thetas_path = [thetas]\n",
        "    losses = []\n",
        "\n",
        "    for i in range(n_epochs):\n",
        "        # tính output\n",
        "        output = X_b.dot(thetas)\n",
        "\n",
        "        # tính loss\n",
        "        loss = (output - y)**2\n",
        "\n",
        "        # tính đạo hàm cho loss\n",
        "        loss_grd = 2*(output - y)/N\n",
        "\n",
        "        # tính đạo hàm cho các tham số\n",
        "        gradients = X_b.T.dot(loss_grd)\n",
        "\n",
        "        # cập nhật tham số\n",
        "        thetas = thetas - learning_rate*gradients\n",
        "        thetas_path.append(thetas)\n",
        "\n",
        "        mean_loss = np.sum(loss)/N\n",
        "        losses.append(mean_loss)\n",
        "\n",
        "    return thetas_path, losses\n",
        "\n",
        "\n"
      ],
      "metadata": {
        "id": "WS_6ZqHxTIwq"
      },
      "execution_count": null,
      "outputs": []
    },
    {
      "cell_type": "code",
      "source": [
        "def computeRMSError(theta, x_test, y_test):\n",
        "  predict_y = x_test.dot(theta)\n",
        "  rms = np.sum((y_test - predict_y)**2) / len(x_test)\n",
        "  return np.sqrt(rms)\n"
      ],
      "metadata": {
        "id": "6LwY5fDThE9D"
      },
      "execution_count": null,
      "outputs": []
    },
    {
      "cell_type": "code",
      "source": [
        "from sklearn.model_selection import train_test_split\n",
        "\n",
        "\n",
        "X_b, maxi, mini, avg = mean_normalization(X)\n",
        "\n",
        "X_train, X_test, y_train, y_test = train_test_split(X_b, y, test_size=0.2, random_state=42)\n",
        "\n",
        "k = 5\n",
        "step_fold = int(X_train.shape[0] /k)\n",
        "\n",
        "x_fold1 = X_train[:step_fold,:]\n",
        "y_fold1 = y_train[:step_fold]\n",
        "\n",
        "x_fold2 = X_train[step_fold:2*step_fold,:]\n",
        "y_fold2 = y_train[step_fold:2*step_fold]\n",
        "\n",
        "x_fold3 = X_train[2*step_fold:3*step_fold,:]\n",
        "y_fold3 = y_train[2*step_fold:3*step_fold]\n",
        "\n",
        "x_fold4 = X_train[3*step_fold:4*step_fold:,:]\n",
        "y_fold4 = y_train[3*step_fold:4*step_fold]\n",
        "\n",
        "x_fold5 = X_train[4*step_fold:,:]\n",
        "y_fold5 = y_train[4*step_fold:]\n",
        "\n",
        "#Cross validation 1\n",
        "cr_x_train_1 = np.r_[x_fold1, x_fold2, x_fold3, x_fold4]\n",
        "cr_y_train_1 = np.r_[y_fold1, y_fold2, y_fold3, y_fold4]\n",
        "cr_x_test_1 = x_fold5\n",
        "cr_y_test_1 = y_fold5\n",
        "bgd_thetas_1, losses_1 = batch_gradient_descent(cr_x_train_1, cr_y_train_1, n_epochs=1000, learning_rate=0.01)\n",
        "rms_1 = computeRMSError(bgd_thetas_1[-1], cr_x_test_1, cr_y_test_1)\n",
        "print(\"RMS for cross validation 1:\", rms_1)\n",
        "\n",
        "\n",
        "#Cross validation 2\n",
        "cr_x_train_2 = np.r_[x_fold1, x_fold2, x_fold3, x_fold5]\n",
        "cr_y_train_2 = np.r_[y_fold1, y_fold2, y_fold3, y_fold5]\n",
        "cr_x_test_2 = x_fold4\n",
        "cr_y_test_2 = y_fold4\n",
        "bgd_thetas_2, losses_2 = batch_gradient_descent(cr_x_train_2, cr_y_train_2, n_epochs=1000, learning_rate=0.01)\n",
        "rms_2 = computeRMSError(bgd_thetas_2[-1], cr_x_test_2, cr_y_test_2)\n",
        "print(\"RMS for cross validation 2:\", rms_2)\n",
        "\n",
        "#Cross validation 3\n",
        "cr_x_train_3 = np.r_[x_fold1, x_fold2, x_fold4, x_fold5]\n",
        "cr_y_train_3 = np.r_[y_fold1, y_fold2, y_fold4, y_fold5]\n",
        "cr_x_test_3 = x_fold3\n",
        "cr_y_test_3 = y_fold3\n",
        "bgd_thetas_3, losses_3 = batch_gradient_descent(cr_x_train_3, cr_y_train_3, n_epochs=1000, learning_rate=0.01)\n",
        "rms_3 = computeRMSError(bgd_thetas_3[-1], cr_x_test_3, cr_y_test_3)\n",
        "print(\"RMS for cross validation 3:\", rms_3)\n",
        "\n",
        "\n",
        "#Cross validation 4\n",
        "cr_x_train_4 = np.r_[x_fold1, x_fold3, x_fold4, x_fold5]\n",
        "cr_y_train_4 = np.r_[y_fold1, y_fold3, y_fold4, y_fold5]\n",
        "cr_x_test_4 = x_fold2\n",
        "cr_y_test_4 = y_fold2\n",
        "bgd_thetas_4, losses_4 = batch_gradient_descent(cr_x_train_4, cr_y_train_4, n_epochs=1000, learning_rate=0.01)\n",
        "rms_4 = computeRMSError(bgd_thetas_4[-1], cr_x_test_4, cr_y_test_4)\n",
        "print(\"RMS for cross validation 4:\", rms_4)\n",
        "\n",
        "#Cross validation 5\n",
        "cr_x_train_5 = np.r_[x_fold2, x_fold3, x_fold4, x_fold5]\n",
        "cr_y_train_5 = np.r_[y_fold2, y_fold3, y_fold4, y_fold5]\n",
        "cr_x_test_5 = x_fold1\n",
        "cr_y_test_5 = y_fold1\n",
        "bgd_thetas_5, losses_5 = batch_gradient_descent(cr_x_train_5, cr_y_train_5, n_epochs=1000, learning_rate=0.01)\n",
        "\n",
        "rms_5 = computeRMSError(bgd_thetas_5[-1], cr_x_test_5, cr_y_test_5)\n",
        "print(\"RMS for cross validation 5:\", rms_5)\n",
        "\n",
        "#Select the best cross-valididation model for final evluation on test set\n",
        "rms_test = computeRMSError(bgd_thetas_2[-1], X_test, y_test)\n",
        "print(\"test rms\", rms_test)\n",
        "\n",
        "\n",
        "\n"
      ],
      "metadata": {
        "colab": {
          "base_uri": "https://localhost:8080/"
        },
        "id": "130E-RrtTcye",
        "outputId": "70392a5d-377f-4b41-f38c-4e4f7dd5f4a6"
      },
      "execution_count": null,
      "outputs": [
        {
          "output_type": "stream",
          "name": "stdout",
          "text": [
            "RMS for cross validation 1: 2.881847714063822\n",
            "RMS for cross validation 2: 2.6710408305524775\n",
            "RMS for cross validation 3: 2.7881616965245204\n",
            "RMS for cross validation 4: 2.505887662603752\n",
            "RMS for cross validation 5: 2.721299483835143\n",
            "test rms 2.9133471785274003\n"
          ]
        }
      ]
    },
    {
      "cell_type": "code",
      "source": [
        "from sklearn.model_selection import KFold\n",
        "from sklearn.model_selection import StratifiedKFold\n",
        "\n",
        "kf = KFold(n_splits=5)\n",
        "for i, (train_index, test_index) in enumerate(kf.split(X_train,y_train)):\n",
        "  print(f\"Fold {i}:\")\n",
        "  print(f\"  X Train: index={X_train[train_index].shape}\")\n",
        "  print(f\"  Y Train: index={y_train[train_index].shape}\")\n",
        "\n",
        "  print(f\"  X Test: index={X_train[test_index].shape}\")\n",
        "  print(f\"  Y Test: index={y_train[test_index].shape}\")\n",
        "\n",
        "  bgd_thetas, losses = batch_gradient_descent(X_train[train_index], y_train[train_index], n_epochs=1000, learning_rate=0.01)\n",
        "  rms = computeRMSError(bgd_thetas[-1], X_train[test_index], y_train[test_index])\n",
        "  print(\"Rms = \", rms)\n"
      ],
      "metadata": {
        "colab": {
          "base_uri": "https://localhost:8080/"
        },
        "id": "pX6IH2a_mZ7y",
        "outputId": "f8c99e50-fbfe-4a42-f27e-754698403220"
      },
      "execution_count": null,
      "outputs": [
        {
          "output_type": "stream",
          "name": "stdout",
          "text": [
            "Fold 0:\n",
            "  X Train: index=(128, 4)\n",
            "  Y Train: index=(128, 1)\n",
            "  X Test: index=(32, 4)\n",
            "  Y Test: index=(32, 1)\n",
            "Rms =  2.721299483835143\n",
            "Fold 1:\n",
            "  X Train: index=(128, 4)\n",
            "  Y Train: index=(128, 1)\n",
            "  X Test: index=(32, 4)\n",
            "  Y Test: index=(32, 1)\n",
            "Rms =  2.505887662603752\n",
            "Fold 2:\n",
            "  X Train: index=(128, 4)\n",
            "  Y Train: index=(128, 1)\n",
            "  X Test: index=(32, 4)\n",
            "  Y Test: index=(32, 1)\n",
            "Rms =  2.7881616965245204\n",
            "Fold 3:\n",
            "  X Train: index=(128, 4)\n",
            "  Y Train: index=(128, 1)\n",
            "  X Test: index=(32, 4)\n",
            "  Y Test: index=(32, 1)\n",
            "Rms =  2.6710408305524775\n",
            "Fold 4:\n",
            "  X Train: index=(128, 4)\n",
            "  Y Train: index=(128, 1)\n",
            "  X Test: index=(32, 4)\n",
            "  Y Test: index=(32, 1)\n",
            "Rms =  2.881847714063822\n"
          ]
        }
      ]
    },
    {
      "cell_type": "code",
      "source": [
        "X_b, maxi, mini, avg = mean_normalization(X)\n",
        "bgd_thetas, losses = batch_gradient_descent(X_b, y, n_epochs=1000, learning_rate=0.01)\n",
        "\n",
        "# in loss cho 100 sample đầu\n",
        "x_axis = list(range(1000))\n",
        "plt.plot(x_axis,losses[:1000], color=\"r\")\n",
        "plt.show()"
      ],
      "metadata": {
        "colab": {
          "base_uri": "https://localhost:8080/",
          "height": 430
        },
        "id": "n0Hnk2aNTbrl",
        "outputId": "93ae86a9-fabb-4568-ef64-c2704885e78a"
      },
      "execution_count": null,
      "outputs": [
        {
          "output_type": "display_data",
          "data": {
            "text/plain": [
              "<Figure size 640x480 with 1 Axes>"
            ],
            "image/png": "[encoded data removed]"
          },
          "metadata": {}
        }
      ]
    }
  ]
}